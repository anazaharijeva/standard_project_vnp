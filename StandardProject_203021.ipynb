{
  "nbformat": 4,
  "nbformat_minor": 0,
  "metadata": {
    "colab": {
      "provenance": [],
      "mount_file_id": "18EVqlOfpLn1XTaNFULL8MaGpv1RfXy1i",
      "authorship_tag": "ABX9TyPQvLBEMQslRdP7Sut8U8eD",
      "include_colab_link": true
    },
    "kernelspec": {
      "name": "python3",
      "display_name": "Python 3"
    },
    "language_info": {
      "name": "python"
    }
  },
  "cells": [
    {
      "cell_type": "markdown",
      "metadata": {
        "id": "view-in-github",
        "colab_type": "text"
      },
      "source": [
        "<a href=\"https://colab.research.google.com/github/anazaharijeva/standard_project_vnp/blob/master/StandardProject_203021.ipynb\" target=\"_parent\"><img src=\"https://colab.research.google.com/assets/colab-badge.svg\" alt=\"Open In Colab\"/></a>"
      ]
    },
    {
      "cell_type": "markdown",
      "source": [
        "Ана Захаријева 203021"
      ],
      "metadata": {
        "id": "ob12C7_a67sS"
      }
    },
    {
      "cell_type": "markdown",
      "source": [
        "# Тема 32:\n",
        "Risk Factor Identification: Identify the risk factors associated with long COVID from #LongCovid tweets. Collect annotations indicating whether each tweet mentions a particular risk factor (e.g., age, pre-existing conditions, vaccination status). This can help understand the demographic and health-related factors linked to Long COVID."
      ],
      "metadata": {
        "id": "n4tY0QbA6--D"
      }
    },
    {
      "cell_type": "markdown",
      "source": [
        "Собирање на подаротиците од: https://www.kaggle.com/\n",
        "\n",
        "Линк од datasetot: https://www.kaggle.com/datasets/matt0922/longcovid-tweets"
      ],
      "metadata": {
        "id": "GQIBJUPl70Zb"
      }
    },
    {
      "cell_type": "code",
      "source": [
        "#install libraries\n",
        "import pandas as pd\n",
        "import numpy as np\n",
        "import re\n",
        "import nltk\n",
        "from sklearn.model_selection import train_test_split\n",
        "from sklearn.feature_extraction.text import TfidfVectorizer\n",
        "from sklearn.metrics import accuracy_score, classification_report, confusion_matrix\n",
        "from sklearn.preprocessing import MultiLabelBinarizer\n",
        "from sklearn.multioutput import MultiOutputClassifier\n",
        "from sklearn.ensemble import RandomForestClassifier\n",
        "from sklearn.metrics import f1_score, hamming_loss"
      ],
      "metadata": {
        "id": "CjxUw8y18SAi"
      },
      "execution_count": null,
      "outputs": []
    },
    {
      "cell_type": "code",
      "source": [
        "# Load your dataset\n",
        "data = pd.read_csv('/content/lc2022.csv', error_bad_lines=False)"
      ],
      "metadata": {
        "colab": {
          "base_uri": "https://localhost:8080/"
        },
        "id": "dBr3uQs-9z2Y",
        "outputId": "f4690983-387d-4ee5-cb53-ed068fd45b8a"
      },
      "execution_count": null,
      "outputs": [
        {
          "output_type": "stream",
          "name": "stderr",
          "text": [
            "<ipython-input-58-40b4f99ce6a3>:2: FutureWarning: The error_bad_lines argument has been deprecated and will be removed in a future version. Use on_bad_lines in the future.\n",
            "\n",
            "\n",
            "  data = pd.read_csv('/content/lc2022.csv', error_bad_lines=False)\n"
          ]
        }
      ]
    },
    {
      "cell_type": "code",
      "source": [
        "data"
      ],
      "metadata": {
        "colab": {
          "base_uri": "https://localhost:8080/",
          "height": 423
        },
        "id": "kli3O1yZ-Tfb",
        "outputId": "7721f138-5feb-464a-f497-15a5c68cc47a"
      },
      "execution_count": null,
      "outputs": [
        {
          "output_type": "execute_result",
          "data": {
            "text/plain": [
              "                             Date             User  \\\n",
              "0       2022-01-31 23:59:18+00:00    RobocapFriend   \n",
              "1       2022-01-31 23:59:18+00:00   LupusWarrior69   \n",
              "2       2022-01-31 23:58:12+00:00       ElsaOrgana   \n",
              "3       2022-01-31 23:57:59+00:00   WilliamAHirsch   \n",
              "4       2022-01-31 23:57:58+00:00  persistingvirus   \n",
              "...                           ...              ...   \n",
              "143049  2022-01-04 02:12:40+00:00      maryampatel   \n",
              "143050  2022-01-04 02:12:14+00:00    hereandnow155   \n",
              "143051  2022-01-04 02:11:58+00:00    JerzyTigger79   \n",
              "143052  2022-01-04 02:11:58+00:00         WeiDuCNA   \n",
              "143053       2022-01-04 02:11:49+              NaN   \n",
              "\n",
              "                                                   Tweets  \n",
              "0       @kathymi71147962 @RiaRex2 My s-in-law had Covi...  \n",
              "1       @MarinaSilver6 Long COVID sucks. But you make ...  \n",
              "2       @PortiaMcGonagal It’s been one for about a mon...  \n",
              "3       Living with covid also means lifelong health p...  \n",
              "4       Long Covid. Scientists agreed leading theory i...  \n",
              "...                                                   ...  \n",
              "143049  @ravenscimaven PEM is probably the worst thing...  \n",
              "143050  @Malcolm68761322 @ChristieCooper7 @7NewsMelbou...  \n",
              "143051  @Gerry_Martini People forget that mild just me...  \n",
              "143052  @jeremyyellen @mercuriobryan The right questio...  \n",
              "143053                                                NaN  \n",
              "\n",
              "[143054 rows x 3 columns]"
            ],
            "text/html": [
              "\n",
              "  <div id=\"df-871caa69-0fe2-4a0e-b72b-55ca12f526b0\" class=\"colab-df-container\">\n",
              "    <div>\n",
              "<style scoped>\n",
              "    .dataframe tbody tr th:only-of-type {\n",
              "        vertical-align: middle;\n",
              "    }\n",
              "\n",
              "    .dataframe tbody tr th {\n",
              "        vertical-align: top;\n",
              "    }\n",
              "\n",
              "    .dataframe thead th {\n",
              "        text-align: right;\n",
              "    }\n",
              "</style>\n",
              "<table border=\"1\" class=\"dataframe\">\n",
              "  <thead>\n",
              "    <tr style=\"text-align: right;\">\n",
              "      <th></th>\n",
              "      <th>Date</th>\n",
              "      <th>User</th>\n",
              "      <th>Tweets</th>\n",
              "    </tr>\n",
              "  </thead>\n",
              "  <tbody>\n",
              "    <tr>\n",
              "      <th>0</th>\n",
              "      <td>2022-01-31 23:59:18+00:00</td>\n",
              "      <td>RobocapFriend</td>\n",
              "      <td>@kathymi71147962 @RiaRex2 My s-in-law had Covi...</td>\n",
              "    </tr>\n",
              "    <tr>\n",
              "      <th>1</th>\n",
              "      <td>2022-01-31 23:59:18+00:00</td>\n",
              "      <td>LupusWarrior69</td>\n",
              "      <td>@MarinaSilver6 Long COVID sucks. But you make ...</td>\n",
              "    </tr>\n",
              "    <tr>\n",
              "      <th>2</th>\n",
              "      <td>2022-01-31 23:58:12+00:00</td>\n",
              "      <td>ElsaOrgana</td>\n",
              "      <td>@PortiaMcGonagal It’s been one for about a mon...</td>\n",
              "    </tr>\n",
              "    <tr>\n",
              "      <th>3</th>\n",
              "      <td>2022-01-31 23:57:59+00:00</td>\n",
              "      <td>WilliamAHirsch</td>\n",
              "      <td>Living with covid also means lifelong health p...</td>\n",
              "    </tr>\n",
              "    <tr>\n",
              "      <th>4</th>\n",
              "      <td>2022-01-31 23:57:58+00:00</td>\n",
              "      <td>persistingvirus</td>\n",
              "      <td>Long Covid. Scientists agreed leading theory i...</td>\n",
              "    </tr>\n",
              "    <tr>\n",
              "      <th>...</th>\n",
              "      <td>...</td>\n",
              "      <td>...</td>\n",
              "      <td>...</td>\n",
              "    </tr>\n",
              "    <tr>\n",
              "      <th>143049</th>\n",
              "      <td>2022-01-04 02:12:40+00:00</td>\n",
              "      <td>maryampatel</td>\n",
              "      <td>@ravenscimaven PEM is probably the worst thing...</td>\n",
              "    </tr>\n",
              "    <tr>\n",
              "      <th>143050</th>\n",
              "      <td>2022-01-04 02:12:14+00:00</td>\n",
              "      <td>hereandnow155</td>\n",
              "      <td>@Malcolm68761322 @ChristieCooper7 @7NewsMelbou...</td>\n",
              "    </tr>\n",
              "    <tr>\n",
              "      <th>143051</th>\n",
              "      <td>2022-01-04 02:11:58+00:00</td>\n",
              "      <td>JerzyTigger79</td>\n",
              "      <td>@Gerry_Martini People forget that mild just me...</td>\n",
              "    </tr>\n",
              "    <tr>\n",
              "      <th>143052</th>\n",
              "      <td>2022-01-04 02:11:58+00:00</td>\n",
              "      <td>WeiDuCNA</td>\n",
              "      <td>@jeremyyellen @mercuriobryan The right questio...</td>\n",
              "    </tr>\n",
              "    <tr>\n",
              "      <th>143053</th>\n",
              "      <td>2022-01-04 02:11:49+</td>\n",
              "      <td>NaN</td>\n",
              "      <td>NaN</td>\n",
              "    </tr>\n",
              "  </tbody>\n",
              "</table>\n",
              "<p>143054 rows × 3 columns</p>\n",
              "</div>\n",
              "    <div class=\"colab-df-buttons\">\n",
              "\n",
              "  <div class=\"colab-df-container\">\n",
              "    <button class=\"colab-df-convert\" onclick=\"convertToInteractive('df-871caa69-0fe2-4a0e-b72b-55ca12f526b0')\"\n",
              "            title=\"Convert this dataframe to an interactive table.\"\n",
              "            style=\"display:none;\">\n",
              "\n",
              "  <svg xmlns=\"http://www.w3.org/2000/svg\" height=\"24px\" viewBox=\"0 -960 960 960\">\n",
              "    <path d=\"M120-120v-720h720v720H120Zm60-500h600v-160H180v160Zm220 220h160v-160H400v160Zm0 220h160v-160H400v160ZM180-400h160v-160H180v160Zm440 0h160v-160H620v160ZM180-180h160v-160H180v160Zm440 0h160v-160H620v160Z\"/>\n",
              "  </svg>\n",
              "    </button>\n",
              "\n",
              "  <style>\n",
              "    .colab-df-container {\n",
              "      display:flex;\n",
              "      gap: 12px;\n",
              "    }\n",
              "\n",
              "    .colab-df-convert {\n",
              "      background-color: #E8F0FE;\n",
              "      border: none;\n",
              "      border-radius: 50%;\n",
              "      cursor: pointer;\n",
              "      display: none;\n",
              "      fill: #1967D2;\n",
              "      height: 32px;\n",
              "      padding: 0 0 0 0;\n",
              "      width: 32px;\n",
              "    }\n",
              "\n",
              "    .colab-df-convert:hover {\n",
              "      background-color: #E2EBFA;\n",
              "      box-shadow: 0px 1px 2px rgba(60, 64, 67, 0.3), 0px 1px 3px 1px rgba(60, 64, 67, 0.15);\n",
              "      fill: #174EA6;\n",
              "    }\n",
              "\n",
              "    .colab-df-buttons div {\n",
              "      margin-bottom: 4px;\n",
              "    }\n",
              "\n",
              "    [theme=dark] .colab-df-convert {\n",
              "      background-color: #3B4455;\n",
              "      fill: #D2E3FC;\n",
              "    }\n",
              "\n",
              "    [theme=dark] .colab-df-convert:hover {\n",
              "      background-color: #434B5C;\n",
              "      box-shadow: 0px 1px 3px 1px rgba(0, 0, 0, 0.15);\n",
              "      filter: drop-shadow(0px 1px 2px rgba(0, 0, 0, 0.3));\n",
              "      fill: #FFFFFF;\n",
              "    }\n",
              "  </style>\n",
              "\n",
              "    <script>\n",
              "      const buttonEl =\n",
              "        document.querySelector('#df-871caa69-0fe2-4a0e-b72b-55ca12f526b0 button.colab-df-convert');\n",
              "      buttonEl.style.display =\n",
              "        google.colab.kernel.accessAllowed ? 'block' : 'none';\n",
              "\n",
              "      async function convertToInteractive(key) {\n",
              "        const element = document.querySelector('#df-871caa69-0fe2-4a0e-b72b-55ca12f526b0');\n",
              "        const dataTable =\n",
              "          await google.colab.kernel.invokeFunction('convertToInteractive',\n",
              "                                                    [key], {});\n",
              "        if (!dataTable) return;\n",
              "\n",
              "        const docLinkHtml = 'Like what you see? Visit the ' +\n",
              "          '<a target=\"_blank\" href=https://colab.research.google.com/notebooks/data_table.ipynb>data table notebook</a>'\n",
              "          + ' to learn more about interactive tables.';\n",
              "        element.innerHTML = '';\n",
              "        dataTable['output_type'] = 'display_data';\n",
              "        await google.colab.output.renderOutput(dataTable, element);\n",
              "        const docLink = document.createElement('div');\n",
              "        docLink.innerHTML = docLinkHtml;\n",
              "        element.appendChild(docLink);\n",
              "      }\n",
              "    </script>\n",
              "  </div>\n",
              "\n",
              "\n",
              "<div id=\"df-d411eb91-e132-4160-82ef-abbef7921d1b\">\n",
              "  <button class=\"colab-df-quickchart\" onclick=\"quickchart('df-d411eb91-e132-4160-82ef-abbef7921d1b')\"\n",
              "            title=\"Suggest charts.\"\n",
              "            style=\"display:none;\">\n",
              "\n",
              "<svg xmlns=\"http://www.w3.org/2000/svg\" height=\"24px\"viewBox=\"0 0 24 24\"\n",
              "     width=\"24px\">\n",
              "    <g>\n",
              "        <path d=\"M19 3H5c-1.1 0-2 .9-2 2v14c0 1.1.9 2 2 2h14c1.1 0 2-.9 2-2V5c0-1.1-.9-2-2-2zM9 17H7v-7h2v7zm4 0h-2V7h2v10zm4 0h-2v-4h2v4z\"/>\n",
              "    </g>\n",
              "</svg>\n",
              "  </button>\n",
              "\n",
              "<style>\n",
              "  .colab-df-quickchart {\n",
              "      --bg-color: #E8F0FE;\n",
              "      --fill-color: #1967D2;\n",
              "      --hover-bg-color: #E2EBFA;\n",
              "      --hover-fill-color: #174EA6;\n",
              "      --disabled-fill-color: #AAA;\n",
              "      --disabled-bg-color: #DDD;\n",
              "  }\n",
              "\n",
              "  [theme=dark] .colab-df-quickchart {\n",
              "      --bg-color: #3B4455;\n",
              "      --fill-color: #D2E3FC;\n",
              "      --hover-bg-color: #434B5C;\n",
              "      --hover-fill-color: #FFFFFF;\n",
              "      --disabled-bg-color: #3B4455;\n",
              "      --disabled-fill-color: #666;\n",
              "  }\n",
              "\n",
              "  .colab-df-quickchart {\n",
              "    background-color: var(--bg-color);\n",
              "    border: none;\n",
              "    border-radius: 50%;\n",
              "    cursor: pointer;\n",
              "    display: none;\n",
              "    fill: var(--fill-color);\n",
              "    height: 32px;\n",
              "    padding: 0;\n",
              "    width: 32px;\n",
              "  }\n",
              "\n",
              "  .colab-df-quickchart:hover {\n",
              "    background-color: var(--hover-bg-color);\n",
              "    box-shadow: 0 1px 2px rgba(60, 64, 67, 0.3), 0 1px 3px 1px rgba(60, 64, 67, 0.15);\n",
              "    fill: var(--button-hover-fill-color);\n",
              "  }\n",
              "\n",
              "  .colab-df-quickchart-complete:disabled,\n",
              "  .colab-df-quickchart-complete:disabled:hover {\n",
              "    background-color: var(--disabled-bg-color);\n",
              "    fill: var(--disabled-fill-color);\n",
              "    box-shadow: none;\n",
              "  }\n",
              "\n",
              "  .colab-df-spinner {\n",
              "    border: 2px solid var(--fill-color);\n",
              "    border-color: transparent;\n",
              "    border-bottom-color: var(--fill-color);\n",
              "    animation:\n",
              "      spin 1s steps(1) infinite;\n",
              "  }\n",
              "\n",
              "  @keyframes spin {\n",
              "    0% {\n",
              "      border-color: transparent;\n",
              "      border-bottom-color: var(--fill-color);\n",
              "      border-left-color: var(--fill-color);\n",
              "    }\n",
              "    20% {\n",
              "      border-color: transparent;\n",
              "      border-left-color: var(--fill-color);\n",
              "      border-top-color: var(--fill-color);\n",
              "    }\n",
              "    30% {\n",
              "      border-color: transparent;\n",
              "      border-left-color: var(--fill-color);\n",
              "      border-top-color: var(--fill-color);\n",
              "      border-right-color: var(--fill-color);\n",
              "    }\n",
              "    40% {\n",
              "      border-color: transparent;\n",
              "      border-right-color: var(--fill-color);\n",
              "      border-top-color: var(--fill-color);\n",
              "    }\n",
              "    60% {\n",
              "      border-color: transparent;\n",
              "      border-right-color: var(--fill-color);\n",
              "    }\n",
              "    80% {\n",
              "      border-color: transparent;\n",
              "      border-right-color: var(--fill-color);\n",
              "      border-bottom-color: var(--fill-color);\n",
              "    }\n",
              "    90% {\n",
              "      border-color: transparent;\n",
              "      border-bottom-color: var(--fill-color);\n",
              "    }\n",
              "  }\n",
              "</style>\n",
              "\n",
              "  <script>\n",
              "    async function quickchart(key) {\n",
              "      const quickchartButtonEl =\n",
              "        document.querySelector('#' + key + ' button');\n",
              "      quickchartButtonEl.disabled = true;  // To prevent multiple clicks.\n",
              "      quickchartButtonEl.classList.add('colab-df-spinner');\n",
              "      try {\n",
              "        const charts = await google.colab.kernel.invokeFunction(\n",
              "            'suggestCharts', [key], {});\n",
              "      } catch (error) {\n",
              "        console.error('Error during call to suggestCharts:', error);\n",
              "      }\n",
              "      quickchartButtonEl.classList.remove('colab-df-spinner');\n",
              "      quickchartButtonEl.classList.add('colab-df-quickchart-complete');\n",
              "    }\n",
              "    (() => {\n",
              "      let quickchartButtonEl =\n",
              "        document.querySelector('#df-d411eb91-e132-4160-82ef-abbef7921d1b button');\n",
              "      quickchartButtonEl.style.display =\n",
              "        google.colab.kernel.accessAllowed ? 'block' : 'none';\n",
              "    })();\n",
              "  </script>\n",
              "</div>\n",
              "    </div>\n",
              "  </div>\n"
            ]
          },
          "metadata": {},
          "execution_count": 59
        }
      ]
    },
    {
      "cell_type": "code",
      "source": [
        "nltk.download('punkt')\n",
        "nltk.download('stopwords')\n",
        "from nltk.corpus import stopwords"
      ],
      "metadata": {
        "colab": {
          "base_uri": "https://localhost:8080/"
        },
        "id": "vXZvjCP7-fr2",
        "outputId": "bfdbb9fe-a7bc-454d-f2e2-35a7ad139db3"
      },
      "execution_count": null,
      "outputs": [
        {
          "output_type": "stream",
          "name": "stderr",
          "text": [
            "[nltk_data] Downloading package punkt to /root/nltk_data...\n",
            "[nltk_data]   Package punkt is already up-to-date!\n",
            "[nltk_data] Downloading package stopwords to /root/nltk_data...\n",
            "[nltk_data]   Package stopwords is already up-to-date!\n"
          ]
        }
      ]
    },
    {
      "cell_type": "code",
      "source": [
        "#Cleaning data\n",
        "data.loc[5, 'Tweets'] = float('nan')\n",
        "# Preprocess tweet text\n",
        "def preprocess_text(text):\n",
        "\n",
        "    if isinstance(text, float) and pd.isna(text):\n",
        "        return ''\n",
        "    # Convert to lowercase\n",
        "    text = text.lower()\n",
        "    # Remove URLs\n",
        "    text = re.sub(r\"http\\S+|www\\S+|https\\S+\", '', text, flags=re.MULTILINE)\n",
        "    # Remove hashtags and mentions\n",
        "    text = re.sub(r'#\\w+|@\\w+', '', text)\n",
        "    # Remove special characters and digits\n",
        "    text = re.sub(r'[^\\w\\s]', '', text)\n",
        "    text = re.sub(r'\\d+', '', text)\n",
        "    # Tokenize text and remove stopwords\n",
        "    stop_words = set(stopwords.words('english'))\n",
        "    words = nltk.word_tokenize(text)\n",
        "    words = [word for word in words if word not in stop_words]\n",
        "    return ' '.join(words)\n",
        "\n",
        "data['cleaned_tweets'] = data['Tweets'].apply(preprocess_text)"
      ],
      "metadata": {
        "id": "dtMRuW8__pOo"
      },
      "execution_count": null,
      "outputs": []
    },
    {
      "cell_type": "code",
      "source": [
        "data"
      ],
      "metadata": {
        "colab": {
          "base_uri": "https://localhost:8080/",
          "height": 423
        },
        "id": "i2jnSsr7AI0Q",
        "outputId": "900ac90b-a21e-45a6-92f3-c30e290c12e7"
      },
      "execution_count": null,
      "outputs": [
        {
          "output_type": "execute_result",
          "data": {
            "text/plain": [
              "                             Date             User  \\\n",
              "0       2022-01-31 23:59:18+00:00    RobocapFriend   \n",
              "1       2022-01-31 23:59:18+00:00   LupusWarrior69   \n",
              "2       2022-01-31 23:58:12+00:00       ElsaOrgana   \n",
              "3       2022-01-31 23:57:59+00:00   WilliamAHirsch   \n",
              "4       2022-01-31 23:57:58+00:00  persistingvirus   \n",
              "...                           ...              ...   \n",
              "143049  2022-01-04 02:12:40+00:00      maryampatel   \n",
              "143050  2022-01-04 02:12:14+00:00    hereandnow155   \n",
              "143051  2022-01-04 02:11:58+00:00    JerzyTigger79   \n",
              "143052  2022-01-04 02:11:58+00:00         WeiDuCNA   \n",
              "143053       2022-01-04 02:11:49+              NaN   \n",
              "\n",
              "                                                   Tweets  \\\n",
              "0       @kathymi71147962 @RiaRex2 My s-in-law had Covi...   \n",
              "1       @MarinaSilver6 Long COVID sucks. But you make ...   \n",
              "2       @PortiaMcGonagal It’s been one for about a mon...   \n",
              "3       Living with covid also means lifelong health p...   \n",
              "4       Long Covid. Scientists agreed leading theory i...   \n",
              "...                                                   ...   \n",
              "143049  @ravenscimaven PEM is probably the worst thing...   \n",
              "143050  @Malcolm68761322 @ChristieCooper7 @7NewsMelbou...   \n",
              "143051  @Gerry_Martini People forget that mild just me...   \n",
              "143052  @jeremyyellen @mercuriobryan The right questio...   \n",
              "143053                                                NaN   \n",
              "\n",
              "                                           cleaned_tweets  \n",
              "0       sinlaw covid months ago still long covid debil...  \n",
              "1                         long covid sucks make look sexy  \n",
              "2       one month long covid solidarity one fed lady a...  \n",
              "3       living covid also means lifelong health proble...  \n",
              "4       long covid scientists agreed leading theory sy...  \n",
              "...                                                   ...  \n",
              "143049  pem probably worst thing long covid experience...  \n",
              "143050  sorry know anyone delta still major issues kno...  \n",
              "143051  people forget mild means didnt need hospitaliz...  \n",
              "143052  right question ask medical expert reasons beli...  \n",
              "143053                                                     \n",
              "\n",
              "[143054 rows x 4 columns]"
            ],
            "text/html": [
              "\n",
              "  <div id=\"df-905009f0-3e23-4e5d-a24b-94d190fbfbdf\" class=\"colab-df-container\">\n",
              "    <div>\n",
              "<style scoped>\n",
              "    .dataframe tbody tr th:only-of-type {\n",
              "        vertical-align: middle;\n",
              "    }\n",
              "\n",
              "    .dataframe tbody tr th {\n",
              "        vertical-align: top;\n",
              "    }\n",
              "\n",
              "    .dataframe thead th {\n",
              "        text-align: right;\n",
              "    }\n",
              "</style>\n",
              "<table border=\"1\" class=\"dataframe\">\n",
              "  <thead>\n",
              "    <tr style=\"text-align: right;\">\n",
              "      <th></th>\n",
              "      <th>Date</th>\n",
              "      <th>User</th>\n",
              "      <th>Tweets</th>\n",
              "      <th>cleaned_tweets</th>\n",
              "    </tr>\n",
              "  </thead>\n",
              "  <tbody>\n",
              "    <tr>\n",
              "      <th>0</th>\n",
              "      <td>2022-01-31 23:59:18+00:00</td>\n",
              "      <td>RobocapFriend</td>\n",
              "      <td>@kathymi71147962 @RiaRex2 My s-in-law had Covi...</td>\n",
              "      <td>sinlaw covid months ago still long covid debil...</td>\n",
              "    </tr>\n",
              "    <tr>\n",
              "      <th>1</th>\n",
              "      <td>2022-01-31 23:59:18+00:00</td>\n",
              "      <td>LupusWarrior69</td>\n",
              "      <td>@MarinaSilver6 Long COVID sucks. But you make ...</td>\n",
              "      <td>long covid sucks make look sexy</td>\n",
              "    </tr>\n",
              "    <tr>\n",
              "      <th>2</th>\n",
              "      <td>2022-01-31 23:58:12+00:00</td>\n",
              "      <td>ElsaOrgana</td>\n",
              "      <td>@PortiaMcGonagal It’s been one for about a mon...</td>\n",
              "      <td>one month long covid solidarity one fed lady a...</td>\n",
              "    </tr>\n",
              "    <tr>\n",
              "      <th>3</th>\n",
              "      <td>2022-01-31 23:57:59+00:00</td>\n",
              "      <td>WilliamAHirsch</td>\n",
              "      <td>Living with covid also means lifelong health p...</td>\n",
              "      <td>living covid also means lifelong health proble...</td>\n",
              "    </tr>\n",
              "    <tr>\n",
              "      <th>4</th>\n",
              "      <td>2022-01-31 23:57:58+00:00</td>\n",
              "      <td>persistingvirus</td>\n",
              "      <td>Long Covid. Scientists agreed leading theory i...</td>\n",
              "      <td>long covid scientists agreed leading theory sy...</td>\n",
              "    </tr>\n",
              "    <tr>\n",
              "      <th>...</th>\n",
              "      <td>...</td>\n",
              "      <td>...</td>\n",
              "      <td>...</td>\n",
              "      <td>...</td>\n",
              "    </tr>\n",
              "    <tr>\n",
              "      <th>143049</th>\n",
              "      <td>2022-01-04 02:12:40+00:00</td>\n",
              "      <td>maryampatel</td>\n",
              "      <td>@ravenscimaven PEM is probably the worst thing...</td>\n",
              "      <td>pem probably worst thing long covid experience...</td>\n",
              "    </tr>\n",
              "    <tr>\n",
              "      <th>143050</th>\n",
              "      <td>2022-01-04 02:12:14+00:00</td>\n",
              "      <td>hereandnow155</td>\n",
              "      <td>@Malcolm68761322 @ChristieCooper7 @7NewsMelbou...</td>\n",
              "      <td>sorry know anyone delta still major issues kno...</td>\n",
              "    </tr>\n",
              "    <tr>\n",
              "      <th>143051</th>\n",
              "      <td>2022-01-04 02:11:58+00:00</td>\n",
              "      <td>JerzyTigger79</td>\n",
              "      <td>@Gerry_Martini People forget that mild just me...</td>\n",
              "      <td>people forget mild means didnt need hospitaliz...</td>\n",
              "    </tr>\n",
              "    <tr>\n",
              "      <th>143052</th>\n",
              "      <td>2022-01-04 02:11:58+00:00</td>\n",
              "      <td>WeiDuCNA</td>\n",
              "      <td>@jeremyyellen @mercuriobryan The right questio...</td>\n",
              "      <td>right question ask medical expert reasons beli...</td>\n",
              "    </tr>\n",
              "    <tr>\n",
              "      <th>143053</th>\n",
              "      <td>2022-01-04 02:11:49+</td>\n",
              "      <td>NaN</td>\n",
              "      <td>NaN</td>\n",
              "      <td></td>\n",
              "    </tr>\n",
              "  </tbody>\n",
              "</table>\n",
              "<p>143054 rows × 4 columns</p>\n",
              "</div>\n",
              "    <div class=\"colab-df-buttons\">\n",
              "\n",
              "  <div class=\"colab-df-container\">\n",
              "    <button class=\"colab-df-convert\" onclick=\"convertToInteractive('df-905009f0-3e23-4e5d-a24b-94d190fbfbdf')\"\n",
              "            title=\"Convert this dataframe to an interactive table.\"\n",
              "            style=\"display:none;\">\n",
              "\n",
              "  <svg xmlns=\"http://www.w3.org/2000/svg\" height=\"24px\" viewBox=\"0 -960 960 960\">\n",
              "    <path d=\"M120-120v-720h720v720H120Zm60-500h600v-160H180v160Zm220 220h160v-160H400v160Zm0 220h160v-160H400v160ZM180-400h160v-160H180v160Zm440 0h160v-160H620v160ZM180-180h160v-160H180v160Zm440 0h160v-160H620v160Z\"/>\n",
              "  </svg>\n",
              "    </button>\n",
              "\n",
              "  <style>\n",
              "    .colab-df-container {\n",
              "      display:flex;\n",
              "      gap: 12px;\n",
              "    }\n",
              "\n",
              "    .colab-df-convert {\n",
              "      background-color: #E8F0FE;\n",
              "      border: none;\n",
              "      border-radius: 50%;\n",
              "      cursor: pointer;\n",
              "      display: none;\n",
              "      fill: #1967D2;\n",
              "      height: 32px;\n",
              "      padding: 0 0 0 0;\n",
              "      width: 32px;\n",
              "    }\n",
              "\n",
              "    .colab-df-convert:hover {\n",
              "      background-color: #E2EBFA;\n",
              "      box-shadow: 0px 1px 2px rgba(60, 64, 67, 0.3), 0px 1px 3px 1px rgba(60, 64, 67, 0.15);\n",
              "      fill: #174EA6;\n",
              "    }\n",
              "\n",
              "    .colab-df-buttons div {\n",
              "      margin-bottom: 4px;\n",
              "    }\n",
              "\n",
              "    [theme=dark] .colab-df-convert {\n",
              "      background-color: #3B4455;\n",
              "      fill: #D2E3FC;\n",
              "    }\n",
              "\n",
              "    [theme=dark] .colab-df-convert:hover {\n",
              "      background-color: #434B5C;\n",
              "      box-shadow: 0px 1px 3px 1px rgba(0, 0, 0, 0.15);\n",
              "      filter: drop-shadow(0px 1px 2px rgba(0, 0, 0, 0.3));\n",
              "      fill: #FFFFFF;\n",
              "    }\n",
              "  </style>\n",
              "\n",
              "    <script>\n",
              "      const buttonEl =\n",
              "        document.querySelector('#df-905009f0-3e23-4e5d-a24b-94d190fbfbdf button.colab-df-convert');\n",
              "      buttonEl.style.display =\n",
              "        google.colab.kernel.accessAllowed ? 'block' : 'none';\n",
              "\n",
              "      async function convertToInteractive(key) {\n",
              "        const element = document.querySelector('#df-905009f0-3e23-4e5d-a24b-94d190fbfbdf');\n",
              "        const dataTable =\n",
              "          await google.colab.kernel.invokeFunction('convertToInteractive',\n",
              "                                                    [key], {});\n",
              "        if (!dataTable) return;\n",
              "\n",
              "        const docLinkHtml = 'Like what you see? Visit the ' +\n",
              "          '<a target=\"_blank\" href=https://colab.research.google.com/notebooks/data_table.ipynb>data table notebook</a>'\n",
              "          + ' to learn more about interactive tables.';\n",
              "        element.innerHTML = '';\n",
              "        dataTable['output_type'] = 'display_data';\n",
              "        await google.colab.output.renderOutput(dataTable, element);\n",
              "        const docLink = document.createElement('div');\n",
              "        docLink.innerHTML = docLinkHtml;\n",
              "        element.appendChild(docLink);\n",
              "      }\n",
              "    </script>\n",
              "  </div>\n",
              "\n",
              "\n",
              "<div id=\"df-e150f017-a425-4e71-82bf-a477b108525a\">\n",
              "  <button class=\"colab-df-quickchart\" onclick=\"quickchart('df-e150f017-a425-4e71-82bf-a477b108525a')\"\n",
              "            title=\"Suggest charts.\"\n",
              "            style=\"display:none;\">\n",
              "\n",
              "<svg xmlns=\"http://www.w3.org/2000/svg\" height=\"24px\"viewBox=\"0 0 24 24\"\n",
              "     width=\"24px\">\n",
              "    <g>\n",
              "        <path d=\"M19 3H5c-1.1 0-2 .9-2 2v14c0 1.1.9 2 2 2h14c1.1 0 2-.9 2-2V5c0-1.1-.9-2-2-2zM9 17H7v-7h2v7zm4 0h-2V7h2v10zm4 0h-2v-4h2v4z\"/>\n",
              "    </g>\n",
              "</svg>\n",
              "  </button>\n",
              "\n",
              "<style>\n",
              "  .colab-df-quickchart {\n",
              "      --bg-color: #E8F0FE;\n",
              "      --fill-color: #1967D2;\n",
              "      --hover-bg-color: #E2EBFA;\n",
              "      --hover-fill-color: #174EA6;\n",
              "      --disabled-fill-color: #AAA;\n",
              "      --disabled-bg-color: #DDD;\n",
              "  }\n",
              "\n",
              "  [theme=dark] .colab-df-quickchart {\n",
              "      --bg-color: #3B4455;\n",
              "      --fill-color: #D2E3FC;\n",
              "      --hover-bg-color: #434B5C;\n",
              "      --hover-fill-color: #FFFFFF;\n",
              "      --disabled-bg-color: #3B4455;\n",
              "      --disabled-fill-color: #666;\n",
              "  }\n",
              "\n",
              "  .colab-df-quickchart {\n",
              "    background-color: var(--bg-color);\n",
              "    border: none;\n",
              "    border-radius: 50%;\n",
              "    cursor: pointer;\n",
              "    display: none;\n",
              "    fill: var(--fill-color);\n",
              "    height: 32px;\n",
              "    padding: 0;\n",
              "    width: 32px;\n",
              "  }\n",
              "\n",
              "  .colab-df-quickchart:hover {\n",
              "    background-color: var(--hover-bg-color);\n",
              "    box-shadow: 0 1px 2px rgba(60, 64, 67, 0.3), 0 1px 3px 1px rgba(60, 64, 67, 0.15);\n",
              "    fill: var(--button-hover-fill-color);\n",
              "  }\n",
              "\n",
              "  .colab-df-quickchart-complete:disabled,\n",
              "  .colab-df-quickchart-complete:disabled:hover {\n",
              "    background-color: var(--disabled-bg-color);\n",
              "    fill: var(--disabled-fill-color);\n",
              "    box-shadow: none;\n",
              "  }\n",
              "\n",
              "  .colab-df-spinner {\n",
              "    border: 2px solid var(--fill-color);\n",
              "    border-color: transparent;\n",
              "    border-bottom-color: var(--fill-color);\n",
              "    animation:\n",
              "      spin 1s steps(1) infinite;\n",
              "  }\n",
              "\n",
              "  @keyframes spin {\n",
              "    0% {\n",
              "      border-color: transparent;\n",
              "      border-bottom-color: var(--fill-color);\n",
              "      border-left-color: var(--fill-color);\n",
              "    }\n",
              "    20% {\n",
              "      border-color: transparent;\n",
              "      border-left-color: var(--fill-color);\n",
              "      border-top-color: var(--fill-color);\n",
              "    }\n",
              "    30% {\n",
              "      border-color: transparent;\n",
              "      border-left-color: var(--fill-color);\n",
              "      border-top-color: var(--fill-color);\n",
              "      border-right-color: var(--fill-color);\n",
              "    }\n",
              "    40% {\n",
              "      border-color: transparent;\n",
              "      border-right-color: var(--fill-color);\n",
              "      border-top-color: var(--fill-color);\n",
              "    }\n",
              "    60% {\n",
              "      border-color: transparent;\n",
              "      border-right-color: var(--fill-color);\n",
              "    }\n",
              "    80% {\n",
              "      border-color: transparent;\n",
              "      border-right-color: var(--fill-color);\n",
              "      border-bottom-color: var(--fill-color);\n",
              "    }\n",
              "    90% {\n",
              "      border-color: transparent;\n",
              "      border-bottom-color: var(--fill-color);\n",
              "    }\n",
              "  }\n",
              "</style>\n",
              "\n",
              "  <script>\n",
              "    async function quickchart(key) {\n",
              "      const quickchartButtonEl =\n",
              "        document.querySelector('#' + key + ' button');\n",
              "      quickchartButtonEl.disabled = true;  // To prevent multiple clicks.\n",
              "      quickchartButtonEl.classList.add('colab-df-spinner');\n",
              "      try {\n",
              "        const charts = await google.colab.kernel.invokeFunction(\n",
              "            'suggestCharts', [key], {});\n",
              "      } catch (error) {\n",
              "        console.error('Error during call to suggestCharts:', error);\n",
              "      }\n",
              "      quickchartButtonEl.classList.remove('colab-df-spinner');\n",
              "      quickchartButtonEl.classList.add('colab-df-quickchart-complete');\n",
              "    }\n",
              "    (() => {\n",
              "      let quickchartButtonEl =\n",
              "        document.querySelector('#df-e150f017-a425-4e71-82bf-a477b108525a button');\n",
              "      quickchartButtonEl.style.display =\n",
              "        google.colab.kernel.accessAllowed ? 'block' : 'none';\n",
              "    })();\n",
              "  </script>\n",
              "</div>\n",
              "    </div>\n",
              "  </div>\n"
            ]
          },
          "metadata": {},
          "execution_count": 62
        }
      ]
    },
    {
      "cell_type": "code",
      "source": [
        "risk_factors = [\"age\", \"pre-existing conditions\", \"vaccination status\"]\n",
        "\n",
        "def annotate_risk_factors(text):\n",
        "    annotations = {}\n",
        "    for factor in risk_factors:\n",
        "        if factor in text:\n",
        "            annotations[factor] = True\n",
        "        else:\n",
        "            annotations[factor] = False\n",
        "    return annotations\n",
        "\n",
        "# Apply annotation function to each cleaned tweet and store in a new column 'Risk_Factor_Annotations'\n",
        "data['Risk_Factor_Annotations'] = data['cleaned_tweets'].apply(annotate_risk_factors)"
      ],
      "metadata": {
        "id": "_TJ30L3hAXIS"
      },
      "execution_count": null,
      "outputs": []
    },
    {
      "cell_type": "code",
      "source": [
        "factor_counts = {factor: data['Risk_Factor_Annotations'].apply(lambda x: x[factor]).sum() for factor in risk_factors}\n"
      ],
      "metadata": {
        "id": "b4pB2T28BBk-"
      },
      "execution_count": null,
      "outputs": []
    },
    {
      "cell_type": "code",
      "source": [
        "plt.bar(factor_counts.keys(), factor_counts.values())\n",
        "plt.xlabel(\"Risk Factors\")\n",
        "plt.ylabel(\"Frequency\")\n",
        "plt.title(\"Frequency of Risk Factors Mentioned in Tweets\")\n",
        "plt.show()\n"
      ],
      "metadata": {
        "colab": {
          "base_uri": "https://localhost:8080/",
          "height": 472
        },
        "id": "QIN8_977BHvW",
        "outputId": "cf41fa62-4fc0-4f49-b6e5-d02dbaed2e90"
      },
      "execution_count": null,
      "outputs": [
        {
          "output_type": "display_data",
          "data": {
            "text/plain": [
              "<Figure size 640x480 with 1 Axes>"
            ],
            "image/png": "[encoded data removed]"
          },
          "metadata": {}
        }
      ]
    },
    {
      "cell_type": "code",
      "source": [
        "# Interpretation of results\n",
        "for factor, count in factor_counts.items():\n",
        "    print(f\"{factor}: {count} mentions\")\n",
        "\n",
        "# Calculate the percentage of tweets mentioning each risk factor\n",
        "total_tweets = len(df)\n",
        "for factor, count in factor_counts.items():\n",
        "    percentage = (count / total_tweets) * 100\n",
        "    print(f\"{factor}: {percentage:.2f}% of tweets mention this risk factor\")"
      ],
      "metadata": {
        "colab": {
          "base_uri": "https://localhost:8080/"
        },
        "id": "QmGmllPtDdeS",
        "outputId": "2192dc79-87b5-4237-dcfa-11850239dc11"
      },
      "execution_count": null,
      "outputs": [
        {
          "output_type": "stream",
          "name": "stdout",
          "text": [
            "age: 10854 mentions\n",
            "pre-existing conditions: 0 mentions\n",
            "vaccination status: 85 mentions\n",
            "age: 7.59% of tweets mention this risk factor\n",
            "pre-existing conditions: 0.00% of tweets mention this risk factor\n",
            "vaccination status: 0.06% of tweets mention this risk factor\n"
          ]
        }
      ]
    },
    {
      "cell_type": "code",
      "source": [
        "pip install textblob\n"
      ],
      "metadata": {
        "colab": {
          "base_uri": "https://localhost:8080/"
        },
        "id": "SCzmge_FD-jN",
        "outputId": "5f1a2d6b-dcc0-453d-8267-08e9eba6287f"
      },
      "execution_count": null,
      "outputs": [
        {
          "output_type": "stream",
          "name": "stdout",
          "text": [
            "Requirement already satisfied: textblob in /usr/local/lib/python3.10/dist-packages (0.17.1)\n",
            "Requirement already satisfied: nltk>=3.1 in /usr/local/lib/python3.10/dist-packages (from textblob) (3.8.1)\n",
            "Requirement already satisfied: click in /usr/local/lib/python3.10/dist-packages (from nltk>=3.1->textblob) (8.1.7)\n",
            "Requirement already satisfied: joblib in /usr/local/lib/python3.10/dist-packages (from nltk>=3.1->textblob) (1.3.2)\n",
            "Requirement already satisfied: regex>=2021.8.3 in /usr/local/lib/python3.10/dist-packages (from nltk>=3.1->textblob) (2023.6.3)\n",
            "Requirement already satisfied: tqdm in /usr/local/lib/python3.10/dist-packages (from nltk>=3.1->textblob) (4.66.1)\n"
          ]
        }
      ]
    },
    {
      "cell_type": "code",
      "source": [
        "#Sentiment Analysis\n",
        "from textblob import TextBlob\n",
        "\n",
        "# Function to calculate sentiment polarity of a text\n",
        "def get_sentiment(text):\n",
        "    analysis = TextBlob(text)\n",
        "    return analysis.sentiment.polarity\n",
        "\n",
        "# Calculate sentiment polarity for tweets mentioning each risk factor\n",
        "for factor in risk_factors:\n",
        "    factor_tweets = data[data['Risk_Factor_Annotations'].apply(lambda x: x[factor])]\n",
        "    factor_tweets['Sentiment_Polarity'] = factor_tweets['Tweets'].apply(get_sentiment)\n",
        "\n",
        "    # Calculate average sentiment polarity\n",
        "    avg_sentiment = factor_tweets['Sentiment_Polarity'].mean()\n",
        "    print(f\"{factor} Sentiment Polarity: {avg_sentiment:.2f}\")\n"
      ],
      "metadata": {
        "colab": {
          "base_uri": "https://localhost:8080/"
        },
        "id": "FeBru1Z2EUSm",
        "outputId": "34aabee1-c175-46ac-a208-2e441169933c"
      },
      "execution_count": null,
      "outputs": [
        {
          "output_type": "stream",
          "name": "stderr",
          "text": [
            "<ipython-input-68-3e1bb76f044f>:12: SettingWithCopyWarning: \n",
            "A value is trying to be set on a copy of a slice from a DataFrame.\n",
            "Try using .loc[row_indexer,col_indexer] = value instead\n",
            "\n",
            "See the caveats in the documentation: https://pandas.pydata.org/pandas-docs/stable/user_guide/indexing.html#returning-a-view-versus-a-copy\n",
            "  factor_tweets['Sentiment_Polarity'] = factor_tweets['Tweets'].apply(get_sentiment)\n"
          ]
        },
        {
          "output_type": "stream",
          "name": "stdout",
          "text": [
            "age Sentiment Polarity: 0.03\n",
            "pre-existing conditions Sentiment Polarity: nan\n",
            "vaccination status Sentiment Polarity: 0.03\n"
          ]
        },
        {
          "output_type": "stream",
          "name": "stderr",
          "text": [
            "<ipython-input-68-3e1bb76f044f>:12: SettingWithCopyWarning: \n",
            "A value is trying to be set on a copy of a slice from a DataFrame.\n",
            "Try using .loc[row_indexer,col_indexer] = value instead\n",
            "\n",
            "See the caveats in the documentation: https://pandas.pydata.org/pandas-docs/stable/user_guide/indexing.html#returning-a-view-versus-a-copy\n",
            "  factor_tweets['Sentiment_Polarity'] = factor_tweets['Tweets'].apply(get_sentiment)\n"
          ]
        }
      ]
    },
    {
      "cell_type": "code",
      "source": [
        "# Function to perform Named Entity Recognition (NER)\n",
        "def extract_entities(text):\n",
        "    doc = nlp(text)\n",
        "    entities = [ent.text for ent in doc.ents if ent.label_ == 'PERSON']  # Adjust 'PERSON' label as needed\n",
        "    return entities\n",
        "\n",
        "# Extract mentions of risk factors using NER\n",
        "for factor in risk_factors:\n",
        "    factor_tweets = data[data['Risk_Factor_Annotations'].apply(lambda x: x[factor])]\n",
        "    factor_tweets['Mentions'] = factor_tweets['Tweets'].apply(extract_entities)\n",
        "    print(f\"{factor} Mentions:\")\n",
        "    print(factor_tweets['Mentions'].head())\n"
      ],
      "metadata": {
        "colab": {
          "base_uri": "https://localhost:8080/"
        },
        "id": "x6FeU095EhWY",
        "outputId": "26ac56cc-b866-448d-d934-396f5da1fd58"
      },
      "execution_count": null,
      "outputs": [
        {
          "output_type": "stream",
          "name": "stderr",
          "text": [
            "<ipython-input-34-decf5e4776f9>:10: SettingWithCopyWarning: \n",
            "A value is trying to be set on a copy of a slice from a DataFrame.\n",
            "Try using .loc[row_indexer,col_indexer] = value instead\n",
            "\n",
            "See the caveats in the documentation: https://pandas.pydata.org/pandas-docs/stable/user_guide/indexing.html#returning-a-view-versus-a-copy\n",
            "  factor_tweets['Mentions'] = factor_tweets['Tweets'].apply(extract_entities)\n"
          ]
        },
        {
          "output_type": "stream",
          "name": "stdout",
          "text": [
            "age Mentions:\n",
            "17    []\n",
            "34    []\n",
            "35    []\n",
            "44    []\n",
            "51    []\n",
            "Name: Mentions, dtype: object\n",
            "pre-existing conditions Mentions:\n",
            "Series([], Name: Mentions, dtype: object)\n",
            "vaccination status Mentions:\n",
            "4749            [https://t.co/kJGEMlraaM]\n",
            "8470     [@KnightRustyArm @DavidSteadson]\n",
            "9009                                   []\n",
            "11446                                  []\n",
            "17947                                  []\n",
            "Name: Mentions, dtype: object\n"
          ]
        },
        {
          "output_type": "stream",
          "name": "stderr",
          "text": [
            "<ipython-input-34-decf5e4776f9>:10: SettingWithCopyWarning: \n",
            "A value is trying to be set on a copy of a slice from a DataFrame.\n",
            "Try using .loc[row_indexer,col_indexer] = value instead\n",
            "\n",
            "See the caveats in the documentation: https://pandas.pydata.org/pandas-docs/stable/user_guide/indexing.html#returning-a-view-versus-a-copy\n",
            "  factor_tweets['Mentions'] = factor_tweets['Tweets'].apply(extract_entities)\n"
          ]
        }
      ]
    },
    {
      "cell_type": "code",
      "source": [
        "# Prepare the data\n",
        "X = data['cleaned_tweets']\n",
        "y = data['Risk_Factor_Annotations']\n",
        "\n",
        "# Split the data into training and testing sets\n",
        "X_train, X_test, y_train, y_test = train_test_split(X, y, test_size=0.2, random_state=42)"
      ],
      "metadata": {
        "id": "lziJAndPFzqD"
      },
      "execution_count": null,
      "outputs": []
    },
    {
      "cell_type": "code",
      "source": [
        "# Vectorize the text data using TF-IDF\n",
        "tfidf_vectorizer = TfidfVectorizer()\n",
        "X_train_tfidf = tfidf_vectorizer.fit_transform(X_train)\n",
        "X_test_tfidf = tfidf_vectorizer.transform(X_test)\n"
      ],
      "metadata": {
        "id": "OLhSIIQhIVW1"
      },
      "execution_count": null,
      "outputs": []
    },
    {
      "cell_type": "code",
      "source": [
        "\n",
        "# Initialize MultiLabelBinarizer\n",
        "mlb = MultiLabelBinarizer()\n"
      ],
      "metadata": {
        "id": "WEqDrxAMIZ92"
      },
      "execution_count": null,
      "outputs": []
    },
    {
      "cell_type": "code",
      "source": [
        "\n",
        "# Transform the target labels into a binary multi-label format\n",
        "y_train_encoded = mlb.fit_transform(y_train)\n",
        "y_test_encoded = mlb.transform(y_test)\n",
        "\n",
        "# Train a MultiOutputClassifier (Random Forest) for multi-label classification\n",
        "classifier = MultiOutputClassifier(RandomForestClassifier(random_state=42))\n",
        "classifier.fit(X_train_tfidf, y_train_encoded)"
      ],
      "metadata": {
        "colab": {
          "base_uri": "https://localhost:8080/",
          "height": 140
        },
        "id": "dsR5ExXIIcu3",
        "outputId": "903d2739-5e62-4014-a6f0-180adb992563"
      },
      "execution_count": null,
      "outputs": [
        {
          "output_type": "execute_result",
          "data": {
            "text/plain": [
              "MultiOutputClassifier(estimator=RandomForestClassifier(random_state=42))"
            ],
            "text/html": [
              "<style>#sk-container-id-1 {color: black;background-color: white;}#sk-container-id-1 pre{padding: 0;}#sk-container-id-1 div.sk-toggleable {background-color: white;}#sk-container-id-1 label.sk-toggleable__label {cursor: pointer;display: block;width: 100%;margin-bottom: 0;padding: 0.3em;box-sizing: border-box;text-align: center;}#sk-container-id-1 label.sk-toggleable__label-arrow:before {content: \"▸\";float: left;margin-right: 0.25em;color: #696969;}#sk-container-id-1 label.sk-toggleable__label-arrow:hover:before {color: black;}#sk-container-id-1 div.sk-estimator:hover label.sk-toggleable__label-arrow:before {color: black;}#sk-container-id-1 div.sk-toggleable__content {max-height: 0;max-width: 0;overflow: hidden;text-align: left;background-color: #f0f8ff;}#sk-container-id-1 div.sk-toggleable__content pre {margin: 0.2em;color: black;border-radius: 0.25em;background-color: #f0f8ff;}#sk-container-id-1 input.sk-toggleable__control:checked~div.sk-toggleable__content {max-height: 200px;max-width: 100%;overflow: auto;}#sk-container-id-1 input.sk-toggleable__control:checked~label.sk-toggleable__label-arrow:before {content: \"▾\";}#sk-container-id-1 div.sk-estimator input.sk-toggleable__control:checked~label.sk-toggleable__label {background-color: #d4ebff;}#sk-container-id-1 div.sk-label input.sk-toggleable__control:checked~label.sk-toggleable__label {background-color: #d4ebff;}#sk-container-id-1 input.sk-hidden--visually {border: 0;clip: rect(1px 1px 1px 1px);clip: rect(1px, 1px, 1px, 1px);height: 1px;margin: -1px;overflow: hidden;padding: 0;position: absolute;width: 1px;}#sk-container-id-1 div.sk-estimator {font-family: monospace;background-color: #f0f8ff;border: 1px dotted black;border-radius: 0.25em;box-sizing: border-box;margin-bottom: 0.5em;}#sk-container-id-1 div.sk-estimator:hover {background-color: #d4ebff;}#sk-container-id-1 div.sk-parallel-item::after {content: \"\";width: 100%;border-bottom: 1px solid gray;flex-grow: 1;}#sk-container-id-1 div.sk-label:hover label.sk-toggleable__label {background-color: #d4ebff;}#sk-container-id-1 div.sk-serial::before {content: \"\";position: absolute;border-left: 1px solid gray;box-sizing: border-box;top: 0;bottom: 0;left: 50%;z-index: 0;}#sk-container-id-1 div.sk-serial {display: flex;flex-direction: column;align-items: center;background-color: white;padding-right: 0.2em;padding-left: 0.2em;position: relative;}#sk-container-id-1 div.sk-item {position: relative;z-index: 1;}#sk-container-id-1 div.sk-parallel {display: flex;align-items: stretch;justify-content: center;background-color: white;position: relative;}#sk-container-id-1 div.sk-item::before, #sk-container-id-1 div.sk-parallel-item::before {content: \"\";position: absolute;border-left: 1px solid gray;box-sizing: border-box;top: 0;bottom: 0;left: 50%;z-index: -1;}#sk-container-id-1 div.sk-parallel-item {display: flex;flex-direction: column;z-index: 1;position: relative;background-color: white;}#sk-container-id-1 div.sk-parallel-item:first-child::after {align-self: flex-end;width: 50%;}#sk-container-id-1 div.sk-parallel-item:last-child::after {align-self: flex-start;width: 50%;}#sk-container-id-1 div.sk-parallel-item:only-child::after {width: 0;}#sk-container-id-1 div.sk-dashed-wrapped {border: 1px dashed gray;margin: 0 0.4em 0.5em 0.4em;box-sizing: border-box;padding-bottom: 0.4em;background-color: white;}#sk-container-id-1 div.sk-label label {font-family: monospace;font-weight: bold;display: inline-block;line-height: 1.2em;}#sk-container-id-1 div.sk-label-container {text-align: center;}#sk-container-id-1 div.sk-container {/* jupyter's `normalize.less` sets `[hidden] { display: none; }` but bootstrap.min.css set `[hidden] { display: none !important; }` so we also need the `!important` here to be able to override the default hidden behavior on the sphinx rendered scikit-learn.org. See: https://github.com/scikit-learn/scikit-learn/issues/21755 */display: inline-block !important;position: relative;}#sk-container-id-1 div.sk-text-repr-fallback {display: none;}</style><div id=\"sk-container-id-1\" class=\"sk-top-container\"><div class=\"sk-text-repr-fallback\"><pre>MultiOutputClassifier(estimator=RandomForestClassifier(random_state=42))</pre><b>In a Jupyter environment, please rerun this cell to show the HTML representation or trust the notebook. <br />On GitHub, the HTML representation is unable to render, please try loading this page with nbviewer.org.</b></div><div class=\"sk-container\" hidden><div class=\"sk-item sk-dashed-wrapped\"><div class=\"sk-label-container\"><div class=\"sk-label sk-toggleable\"><input class=\"sk-toggleable__control sk-hidden--visually\" id=\"sk-estimator-id-1\" type=\"checkbox\" ><label for=\"sk-estimator-id-1\" class=\"sk-toggleable__label sk-toggleable__label-arrow\">MultiOutputClassifier</label><div class=\"sk-toggleable__content\"><pre>MultiOutputClassifier(estimator=RandomForestClassifier(random_state=42))</pre></div></div></div><div class=\"sk-parallel\"><div class=\"sk-parallel-item\"><div class=\"sk-item\"><div class=\"sk-label-container\"><div class=\"sk-label sk-toggleable\"><input class=\"sk-toggleable__control sk-hidden--visually\" id=\"sk-estimator-id-2\" type=\"checkbox\" ><label for=\"sk-estimator-id-2\" class=\"sk-toggleable__label sk-toggleable__label-arrow\">estimator: RandomForestClassifier</label><div class=\"sk-toggleable__content\"><pre>RandomForestClassifier(random_state=42)</pre></div></div></div><div class=\"sk-serial\"><div class=\"sk-item\"><div class=\"sk-estimator sk-toggleable\"><input class=\"sk-toggleable__control sk-hidden--visually\" id=\"sk-estimator-id-3\" type=\"checkbox\" ><label for=\"sk-estimator-id-3\" class=\"sk-toggleable__label sk-toggleable__label-arrow\">RandomForestClassifier</label><div class=\"sk-toggleable__content\"><pre>RandomForestClassifier(random_state=42)</pre></div></div></div></div></div></div></div></div></div></div>"
            ]
          },
          "metadata": {},
          "execution_count": 44
        }
      ]
    },
    {
      "cell_type": "code",
      "source": [
        "# Predict risk factor annotations on the test set\n",
        "y_pred_encoded = classifier.predict(X_test_tfidf)\n",
        "\n",
        "# Inverse transform the predictions to the original format\n",
        "y_pred = mlb.inverse_transform(y_pred_encoded)\n",
        "\n"
      ],
      "metadata": {
        "id": "hg1y_8vHImIL"
      },
      "execution_count": null,
      "outputs": []
    },
    {
      "cell_type": "code",
      "source": [
        "# Evaluate the model using F1-score and Hamming loss\n",
        "f1_micro = f1_score(y_test_encoded, y_pred_encoded, average='micro')\n",
        "hamming = hamming_loss(y_test_encoded, y_pred_encoded)\n",
        "\n",
        "print(f\"F1 Micro Score: {f1_micro:.2f}\")\n",
        "print(f\"Hamming Loss: {hamming:.2f}\")"
      ],
      "metadata": {
        "colab": {
          "base_uri": "https://localhost:8080/"
        },
        "id": "WydOEiZHIqU8",
        "outputId": "d59c3719-67a0-46f0-a295-ea632674d11b"
      },
      "execution_count": null,
      "outputs": [
        {
          "output_type": "stream",
          "name": "stdout",
          "text": [
            "F1 Micro Score: 1.00\n",
            "Hamming Loss: 0.00\n"
          ]
        }
      ]
    }
  ]
}